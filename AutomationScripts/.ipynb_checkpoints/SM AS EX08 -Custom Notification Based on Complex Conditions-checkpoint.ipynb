{
 "cells": [
  {
   "cell_type": "markdown",
   "id": "e2e7b1be-b36f-4868-a86e-1686eb97f8bc",
   "metadata": {},
   "source": [
    "## Objective: Send a custom notification based on complex conditions involving multiple fields and related objects."
   ]
  },
  {
   "cell_type": "code",
   "execution_count": null,
   "id": "fe3ff46f-529b-43b5-b9c4-3d9d3d539dc4",
   "metadata": {},
   "outputs": [],
   "source": [
    "from psdi.server import MXServer\n",
    "from psdi.security import UserInfo\n",
    "\n",
    "def send_custom_notification(mbo, recipient, subject, message):\n",
    "    mxserver = MXServer.getMXServer()\n",
    "    email_service = mxserver.lookup(\"mail/smtp\")\n",
    "    user_info = mbo.getUserInfo()\n",
    "    \n",
    "    if email_service:\n",
    "        email_service.sendMessage(user_info, recipient, subject, message)\n",
    "\n",
    "def check_conditions_and_notify(mbo):\n",
    "    if mbo.getString(\"STATUS\") == \"APPR\" and mbo.getDouble(\"ESTMATCOST\") > 1000:\n",
    "        asset = mbo.getMboSet(\"ASSETNUM\").getMbo(0)\n",
    "        if asset and asset.getBoolean(\"CRITICAL\"):\n",
    "            recipient = \"supervisor@example.com\"\n",
    "            subject = \"High Cost Work Order Approved\"\n",
    "            message = \"Work order {} has been approved with high estimated cost.\".format(mbo.getString(\"WONUM\"))\n",
    "            send_custom_notification(mbo, recipient, subject, message)\n",
    "\n",
    "if mbo.isNew() or mbo.getString(\"STATUS\") == \"APPR\":\n",
    "    check_conditions_and_notify(mbo)\n"
   ]
  },
  {
   "cell_type": "markdown",
   "id": "e1f34d03-de61-4820-8fe9-e57818a30a5d",
   "metadata": {},
   "source": [
    "**Steps**:\n",
    "\n",
    "1.  Create a new script with an Object Launch Point.\n",
    "2.  Select the `WORKORDER` object.\n",
    "3.  Trigger the script on both the `Add` and `Update` events.\n",
    "4.  Write and save the above script.\n",
    "5.  Test by creating and updating work orders to meet the specified conditions, and verify that the custom notification is sent."
   ]
  },
  {
   "cell_type": "code",
   "execution_count": null,
   "id": "b49971aa-80f1-4c30-9feb-7d61a2463034",
   "metadata": {},
   "outputs": [],
   "source": []
  }
 ],
 "metadata": {
  "kernelspec": {
   "display_name": "Python 3 (ipykernel)",
   "language": "python",
   "name": "python3"
  },
  "language_info": {
   "codemirror_mode": {
    "name": "ipython",
    "version": 3
   },
   "file_extension": ".py",
   "mimetype": "text/x-python",
   "name": "python",
   "nbconvert_exporter": "python",
   "pygments_lexer": "ipython3",
   "version": "3.11.7"
  }
 },
 "nbformat": 4,
 "nbformat_minor": 5
}
