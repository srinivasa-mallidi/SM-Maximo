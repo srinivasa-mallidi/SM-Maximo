{
 "cells": [
  {
   "cell_type": "markdown",
   "id": "c3486077-8909-4468-9dec-faf806a843bb",
   "metadata": {},
   "source": [
    "## Objective: Set default values for fields based on other field values when creating new records."
   ]
  },
  {
   "cell_type": "code",
   "execution_count": null,
   "id": "a7e23434-60b1-4e37-99ee-31ff939d6dfa",
   "metadata": {},
   "outputs": [],
   "source": [
    "# Attribute Launch Point script to set default values based on conditions\n",
    "if mbo.isNew():\n",
    "    if mbo.getBoolean(\"URGENT\"):\n",
    "        mbo.setValue(\"PRIORITY\", 1)\n",
    "    else:\n",
    "        mbo.setValue(\"PRIORITY\", 3)\n"
   ]
  }
 ],
 "metadata": {
  "kernelspec": {
   "display_name": "Python 3 (ipykernel)",
   "language": "python",
   "name": "python3"
  },
  "language_info": {
   "codemirror_mode": {
    "name": "ipython",
    "version": 3
   },
   "file_extension": ".py",
   "mimetype": "text/x-python",
   "name": "python",
   "nbconvert_exporter": "python",
   "pygments_lexer": "ipython3",
   "version": "3.11.7"
  }
 },
 "nbformat": 4,
 "nbformat_minor": 5
}
