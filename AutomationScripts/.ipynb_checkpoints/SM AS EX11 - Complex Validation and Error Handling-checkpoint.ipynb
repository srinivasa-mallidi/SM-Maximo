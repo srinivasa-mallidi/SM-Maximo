{
 "cells": [
  {
   "cell_type": "markdown",
   "id": "c8f6fc70-e67b-4b7a-a46d-c6b76d1e26d3",
   "metadata": {},
   "source": [
    "## Objective: Validate and handle errors when setting a custom field based on conditions"
   ]
  },
  {
   "cell_type": "code",
   "execution_count": null,
   "id": "f606ac68-d26b-4703-8165-4af1e20c6796",
   "metadata": {},
   "outputs": [],
   "source": [
    "# Attribute Launch Point script for complex validation and error handling\n",
    "from psdi.util import MXApplicationException\n",
    "\n",
    "if mbo.isModified(\"AMOUNT\"):\n",
    "    amount = mbo.getDouble(\"AMOUNT\")\n",
    "    \n",
    "    if amount < 0:\n",
    "        raise MXApplicationException(\"customapp\", \"invalidamount\", [\"Amount cannot be negative.\"])\n",
    "    \n",
    "    if amount > 1000:\n",
    "        mbo.setValue(\"APPROVAL_REQUIRED\", True)\n",
    "    else:\n",
    "        mbo.setValue(\"APPROVAL_REQUIRED\", False)\n"
   ]
  }
 ],
 "metadata": {
  "kernelspec": {
   "display_name": "Python 3 (ipykernel)",
   "language": "python",
   "name": "python3"
  },
  "language_info": {
   "codemirror_mode": {
    "name": "ipython",
    "version": 3
   },
   "file_extension": ".py",
   "mimetype": "text/x-python",
   "name": "python",
   "nbconvert_exporter": "python",
   "pygments_lexer": "ipython3",
   "version": "3.11.7"
  }
 },
 "nbformat": 4,
 "nbformat_minor": 5
}
