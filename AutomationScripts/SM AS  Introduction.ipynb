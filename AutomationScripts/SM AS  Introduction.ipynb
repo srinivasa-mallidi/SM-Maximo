{
 "cells": [
  {
   "cell_type": "markdown",
   "id": "398c8b6f-7f6a-40b7-92ce-29fac21e5f63",
   "metadata": {},
   "source": [
    "## Introduction\n",
    "\n",
    "Automation scripts in IBM Maximo allow users to automate routine tasks, enforce business rules, and customize the behavior of Maximo applications without modifying the core codebase. They provide flexibility and can be written in scripting languages such as Python and JavaScript.\n",
    "\n",
    "* * * * *\n",
    "\n",
    "### Types of Automation Scripts\n",
    "\n",
    "1.  **Object Launch Point**: Triggered when an object event occurs (e.g., create, update, delete).\n",
    "2.  **Attribute Launch Point**: Triggered when an attribute of an object changes.\n",
    "3.  **Action Launch Point**: Triggered by user or application actions.\n",
    "4.  **Custom Condition**: Used to create custom conditional expressions.\n",
    "5.  **Custom Class**: Advanced scripts using Java classes.\n",
    "\n"
   ]
  },
  {
   "cell_type": "markdown",
   "id": "4408f6af-cc6d-4340-a59c-ba7fd8ad2836",
   "metadata": {},
   "source": [
    "* * * * *\n",
    "#### What is an Object Launch Point?\n",
    "\n",
    "An Object Launch Point is a specific type of automation script trigger in Maximo that executes custom logic based on events occurring to database objects. It allows scripts to run when certain actions (such as add, update, or delete) are performed on a specified Maximo business object.\n",
    "\n",
    "#### Key Concepts\n",
    "\n",
    "1.  **Object**: The business object (e.g., WORKORDER, ASSET) to which the script is attached.\n",
    "2.  **Events**: The specific actions on the object that trigger the script (e.g., Add, Update, Delete).\n",
    "3.  **Condition**: Optional criteria that must be met for the script to execute.\n",
    "4.  **Script**: The custom logic to be executed when the event occurs.\n"
   ]
  },
  {
   "cell_type": "markdown",
   "id": "f7e425cf-341e-453e-b882-e376c3261d56",
   "metadata": {},
   "source": [
    "* * * * *\n",
    "#### What is an Attribute Launch Point?\n",
    "\n",
    "**Definition**: An Attribute Launch Point in Maximo is a type of automation script trigger that executes custom logic when a specific attribute (field) of a Maximo business object is modified. It allows you to define scripts that respond to changes in individual fields rather than entire objects.\n",
    "\n",
    "**Key Concepts**:\n",
    "\n",
    "-   **Attribute**: Refers to a specific field within a Maximo business object (e.g., `STATUS`, `WOPRIORITY` in a `WORKORDER` object).\n",
    "-   **Event**: The event that triggers the script execution, typically related to changes in the attribute's value.\n",
    "-   **Script**: Custom logic written in a scripting language (such as Python or JavaScript) that executes when the attribute's value changes.\n",
    "\n",
    "**Use Cases**:\n",
    "\n",
    "-   **Validation**: Perform validation checks when specific fields are updated.\n",
    "-   **Default Values**: Set default values for fields based on other field values.\n",
    "-   **Field Dependencies**: Update related fields automatically when a particular field changes."
   ]
  },
  {
   "cell_type": "markdown",
   "id": "a9ee41b9-dcbe-4dda-b33d-06699631ba7e",
   "metadata": {},
   "source": [
    "* * * * *\n",
    "#### What is a Action Launch Point?\n",
    "\n",
    "**Definition**: An Action Launch Point in Maximo is used to trigger automation scripts based on actions performed by users or system processes. These actions can include invoking specific actions within Maximo applications, such as approving a record or invoking a custom action button.\n",
    "\n",
    "**Key Concepts**:\n",
    "\n",
    "-   **Action**: Represents a user or system-initiated action (e.g., `APPROVE`, `SAVE`, `CUSTOMACTION`).\n",
    "-   **Event**: The event that triggers the script execution when the specified action is performed.\n",
    "-   **Script**: Custom logic written in a scripting language that executes when the action is triggered.\n",
    "\n",
    "**Use Cases**:\n",
    "\n",
    "-   **Custom Actions**: Execute custom business logic when a specific action button is clicked.\n",
    "-   **Workflow Integration**: Integrate with Maximo workflows to automate steps based on action outcomes.\n",
    "-   **Complex Business Logic**: Perform complex operations that require user interaction or specific conditions."
   ]
  },
  {
   "cell_type": "markdown",
   "id": "204f962e-bce2-4e5f-a7a4-548f7ae57259",
   "metadata": {},
   "source": []
  },
  {
   "cell_type": "markdown",
   "id": "7e1524b8-402e-4a4a-a0a6-f54dd9bfe979",
   "metadata": {},
   "source": [
    "* * * * *\n",
    "\n",
    "### Creating Automation Scripts\n",
    "\n",
    "#### Step 1: Navigate to Automation Scripts Application\n",
    "\n",
    "1.  Log in to Maximo.\n",
    "2.  Go to `System Configuration > Platform Configuration > Automation Scripts`.\n",
    "\n",
    "#### Step 2: Create a New Script\n",
    "\n",
    "1.  Click on `New Script`.\n",
    "2.  Fill in the details:\n",
    "    -   **Script Name**: Unique name for the script.\n",
    "    -   **Description**: Brief description of the script.\n",
    "    -   **Script Language**: Choose the scripting language (e.g., Python).\n",
    "\n",
    "#### Step 3: Define the Launch Point\n",
    "\n",
    "1.  Click on `Create > Create Script with Object Launch Point` (or choose the appropriate launch point type).\n",
    "2.  Fill in the launch point details:\n",
    "    -   **Launch Point Name**: Provide a name for the launch point.\n",
    "    -   **Object**: Select the object to which the script will be applied (e.g., WORKORDER).\n",
    "    -   **Events**: Select the events that will trigger the script (e.g., Add, Update, Delete).\n",
    "\n",
    "#### Step 4: Write the Script\n",
    "\n",
    "1.  In the script editor, write your script code. For example, to set the default status of a work order to 'WAPPR':"
   ]
  },
  {
   "cell_type": "code",
   "execution_count": null,
   "id": "b02aed04-a3cb-49f4-a5c0-a360ad98e37a",
   "metadata": {},
   "outputs": [],
   "source": [
    "# Sample script to set a default value\n",
    "mbo.setValue(\"STATUS\", \"WAPPR\")"
   ]
  },
  {
   "cell_type": "markdown",
   "id": "e9b447f4-fdf4-4563-9fa1-576acb2f2452",
   "metadata": {},
   "source": [
    "2.  Save the script.\n",
    "\n",
    "#### Step 5: Activate the Script\n",
    "\n",
    "1.  Ensure the script is active by checking the `Active` checkbox.\n",
    "2.  Save and close.\n",
    "\n",
    "* * * * *\n",
    "\n",
    "### Practical Examples\n",
    "\n",
    "#### Example 1: Auto-Update Status\n",
    "\n",
    "**Objective**: Automatically update the status of a work order when it is created.\n",
    "\n",
    "**Script**:"
   ]
  },
  {
   "cell_type": "code",
   "execution_count": null,
   "id": "de1f7ce9-463b-4ae0-82cf-d206498c095a",
   "metadata": {},
   "outputs": [],
   "source": [
    "# Set status to 'WAPPR' when a work order is created\n",
    "mbo.setValue(\"STATUS\", \"WAPPR\")"
   ]
  },
  {
   "cell_type": "markdown",
   "id": "04ed7718-993f-4274-bae7-eee045d8846f",
   "metadata": {},
   "source": [
    "**Steps**:\n",
    "\n",
    "1.  Create a new script with an Object Launch Point.\n",
    "2.  Select the `WORKORDER` object.\n",
    "3.  Trigger the script on the `Add` event.\n",
    "4.  Write and save the above script.\n",
    "\n",
    "#### Example 2: Validate Field Value\n",
    "\n",
    "**Objective**: Validate that the priority of a work order is within a specific range before saving.\n",
    "\n",
    "**Script**:"
   ]
  },
  {
   "cell_type": "code",
   "execution_count": null,
   "id": "9c431ef9-8b5a-411b-ba02-a20f6faceac8",
   "metadata": {},
   "outputs": [],
   "source": [
    "# Validate priority\n",
    "priority = mbo.getInt(\"WOPRIORITY\")\n",
    "if priority < 1 or priority > 5:\n",
    "    errorgroup = \"custom\"\n",
    "    errorkey = \"invalidpriority\""
   ]
  },
  {
   "cell_type": "markdown",
   "id": "0aaba997-348b-47e8-ae24-7ac56338bcc3",
   "metadata": {},
   "source": [
    "**Steps**:\n",
    "\n",
    "1.  Create a new script with an Object Launch Point.\n",
    "2.  Select the `WORKORDER` object.\n",
    "3.  Trigger the script on the `Save` event.\n",
    "4.  Write and save the above script."
   ]
  },
  {
   "cell_type": "markdown",
   "id": "a937f023-9e04-4561-92bc-3d64dc4af8bd",
   "metadata": {},
   "source": [
    "### Best Practices\n",
    "\n",
    "1.  **Keep Scripts Simple**: Write clear and concise scripts to improve maintainability.\n",
    "2.  **Use Logging**: Add logging statements to help with debugging.\n",
    "3.  **Modularize Code**: Break down complex scripts into smaller, reusable functions.\n",
    "4.  **Test Thoroughly**: Test scripts in a development environment before deploying to production.\n",
    "5.  **Document Scripts**: Include comments and documentation for clarity."
   ]
  },
  {
   "cell_type": "markdown",
   "id": "131c4258-0696-4d46-a17b-2754330af73b",
   "metadata": {},
   "source": [
    "### Troubleshooting\n",
    "\n",
    "#### Common Issues and Solutions\n",
    "\n",
    "1.  **Script Not Triggering**:\n",
    "\n",
    "    -   Ensure the script is active.\n",
    "    -   Check the launch point configuration.\n",
    "    -   Verify the event is occurring.\n",
    "2.  **Error Messages**:\n",
    "\n",
    "    -   Review the error messages in the logs.\n",
    "    -   Ensure the script syntax is correct.\n",
    "3.  **Unexpected Behavior**:\n",
    "\n",
    "    -   Test with different scenarios to identify the issue.\n",
    "    -   Debug using logging statements.\n",
    "\n",
    "#### Debugging Tips\n",
    "\n",
    "1.  **Use `logger.error()` and `logger.debug()`**: Add logging statements to track script execution.\n",
    "2.  **Check Maximo Logs**: Review the Maximo system logs for errors and debug information.\n",
    "3.  **Validate Script Syntax**: Ensure the script is syntactically correct and uses proper Maximo API methods."
   ]
  },
  {
   "cell_type": "markdown",
   "id": "ccbbcae9-4f79-4186-aa8b-9aef1ca8f317",
   "metadata": {},
   "source": [
    "# Custom Condition Scripts\n",
    "\n",
    "**Objective**: Use custom conditions to apply business rules.\n",
    "\n",
    "**Example**"
   ]
  },
  {
   "cell_type": "code",
   "execution_count": null,
   "id": "b7d25e74-f942-44b1-a704-5822082c041d",
   "metadata": {},
   "outputs": [],
   "source": [
    "# Custom condition to check if asset is critical\n",
    "if mbo.getBoolean(\"CRITICAL\"):\n",
    "    result = True\n",
    "else:\n",
    "    result = False"
   ]
  },
  {
   "cell_type": "markdown",
   "id": "35377b8f-e6a9-4f70-b782-90e54e624faf",
   "metadata": {},
   "source": [
    "# Custom Class Scripts\n",
    "\n",
    "**Objective**: Use Java classes for more complex logic.\n",
    "\n",
    "**Example**:"
   ]
  },
  {
   "cell_type": "code",
   "execution_count": null,
   "id": "a018df3c-2bcd-4c81-bd1d-d5f73c9e52a1",
   "metadata": {},
   "outputs": [],
   "source": [
    "package custom;\n",
    "\n",
    "import psdi.mbo.MboRemote;\n",
    "import psdi.util.MXException;\n",
    "\n",
    "public class CustomClassScript implements psdi.server.script.ScriptInterface {\n",
    "    public void applyScript(MboRemote mbo, java.util.Map<String, Object> params) throws MXException, java.rmi.RemoteException {\n",
    "        mbo.setValue(\"STATUS\", \"WAPPR\");\n",
    "    }\n",
    "}"
   ]
  },
  {
   "cell_type": "markdown",
   "id": "ad6cf94e-707a-447d-ade9-f4c488fe5daf",
   "metadata": {},
   "source": [
    "**Steps**:\n",
    "\n",
    "1.  Create a Java class implementing `ScriptInterface`.\n",
    "2.  Compile the class and deploy it to the Maximo server.\n",
    "3.  Create a new script with a Custom Class Launch Point.\n",
    "4.  Specify the class name and configure the launch point."
   ]
  },
  {
   "cell_type": "code",
   "execution_count": null,
   "id": "85eac98a-efc1-4a18-bdda-3626276b14a3",
   "metadata": {},
   "outputs": [],
   "source": []
  }
 ],
 "metadata": {
  "kernelspec": {
   "display_name": "Python 3 (ipykernel)",
   "language": "python",
   "name": "python3"
  },
  "language_info": {
   "codemirror_mode": {
    "name": "ipython",
    "version": 3
   },
   "file_extension": ".py",
   "mimetype": "text/x-python",
   "name": "python",
   "nbconvert_exporter": "python",
   "pygments_lexer": "ipython3",
   "version": "3.11.7"
  }
 },
 "nbformat": 4,
 "nbformat_minor": 5
}
