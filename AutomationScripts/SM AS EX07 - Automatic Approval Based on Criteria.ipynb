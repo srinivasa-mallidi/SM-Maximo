{
 "cells": [
  {
   "cell_type": "markdown",
   "id": "8b7984ed-e8be-4838-8126-82687020fa19",
   "metadata": {},
   "source": [
    "## Objective: Automatically approve a work order if it meets certain criteria (e.g., low cost and high priority)."
   ]
  },
  {
   "cell_type": "code",
   "execution_count": null,
   "id": "b220f8d9-3e69-4176-8eae-b0ec092e0e61",
   "metadata": {},
   "outputs": [],
   "source": [
    "if mbo.isNew() and mbo.getDouble(\"ESTMATCOST\") < 500 and mbo.getInt(\"WOPRIORITY\") > 3:\n",
    "    mbo.setValue(\"STATUS\", \"APPR\")\n",
    "    mbo.setValue(\"STATUSDATE\", mbo.getDate(\"TODAY\"))"
   ]
  },
  {
   "cell_type": "markdown",
   "id": "fdbfcf11-2e0f-48cf-8c3f-de647d63edbc",
   "metadata": {},
   "source": [
    "**Steps**:\n",
    "\n",
    "1.  Create a new script with an Object Launch Point.\n",
    "2.  Select the `WORKORDER` object.\n",
    "3.  Trigger the script on the `Add` event.\n",
    "4.  Write and save the above script.\n",
    "5.  Test by creating a new work order with an estimated material cost of less than 500 and a priority greater than 3, and verify that its status is set to \"APPR\"."
   ]
  },
  {
   "cell_type": "code",
   "execution_count": null,
   "id": "ec01ede4-5d54-4f11-a1a2-db3ba69a3d23",
   "metadata": {},
   "outputs": [],
   "source": []
  }
 ],
 "metadata": {
  "kernelspec": {
   "display_name": "Python 3 (ipykernel)",
   "language": "python",
   "name": "python3"
  },
  "language_info": {
   "codemirror_mode": {
    "name": "ipython",
    "version": 3
   },
   "file_extension": ".py",
   "mimetype": "text/x-python",
   "name": "python",
   "nbconvert_exporter": "python",
   "pygments_lexer": "ipython3",
   "version": "3.11.7"
  }
 },
 "nbformat": 4,
 "nbformat_minor": 5
}
