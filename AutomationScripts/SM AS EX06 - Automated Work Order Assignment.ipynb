{
 "cells": [
  {
   "cell_type": "markdown",
   "id": "cb6084ec-d7d1-4f83-ba7c-e862f1e9737f",
   "metadata": {},
   "source": [
    "## Objective: Automatically assign a work order to the least busy technician based on their current workload."
   ]
  },
  {
   "cell_type": "code",
   "execution_count": null,
   "id": "591a0bce-7294-44ae-8389-57c9e1bd3672",
   "metadata": {},
   "outputs": [],
   "source": [
    "from psdi.server import MXServer\n",
    "\n",
    "def get_least_busy_technician():\n",
    "    mxserver = MXServer.getMXServer()\n",
    "    user_set = mxserver.getMboSet(\"MAXUSER\", mxserver.getSystemUserInfo())\n",
    "    user_set.setWhere(\"CLASSIFICATION='TECHNICIAN'\")\n",
    "    user_set.reset()\n",
    "    \n",
    "    least_busy_tech = None\n",
    "    min_workload = float('inf')\n",
    "    \n",
    "    for user in user_set:\n",
    "        workload = user.getInt(\"WORKLOAD\")\n",
    "        if workload < min_workload:\n",
    "            min_workload = workload\n",
    "            least_busy_tech = user.getString(\"USERID\")\n",
    "    \n",
    "    user_set.cleanup()\n",
    "    return least_busy_tech\n",
    "\n",
    "if mbo.isNew():\n",
    "    technician = get_least_busy_technician()\n",
    "    if technician:\n",
    "        mbo.setValue(\"OWNER\", technician)\n"
   ]
  },
  {
   "cell_type": "markdown",
   "id": "d8c17917-f304-4327-bc35-e3b0a8146f2e",
   "metadata": {},
   "source": [
    "**Steps**:\n",
    "\n",
    "1.  Create a new script with an Object Launch Point.\n",
    "2.  Select the `WORKORDER` object.\n",
    "3.  Trigger the script on the `Add` event.\n",
    "4.  Write and save the above script.\n",
    "5.  Test by creating a new work order and verify that it is assigned to the technician with the least workload."
   ]
  },
  {
   "cell_type": "code",
   "execution_count": null,
   "id": "043c8b51-f6b7-4ac8-b5c1-4b9cf971051d",
   "metadata": {},
   "outputs": [],
   "source": []
  }
 ],
 "metadata": {
  "kernelspec": {
   "display_name": "Python 3 (ipykernel)",
   "language": "python",
   "name": "python3"
  },
  "language_info": {
   "codemirror_mode": {
    "name": "ipython",
    "version": 3
   },
   "file_extension": ".py",
   "mimetype": "text/x-python",
   "name": "python",
   "nbconvert_exporter": "python",
   "pygments_lexer": "ipython3",
   "version": "3.11.7"
  }
 },
 "nbformat": 4,
 "nbformat_minor": 5
}
