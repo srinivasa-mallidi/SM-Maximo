{
 "cells": [
  {
   "cell_type": "markdown",
   "id": "509e2330-1822-4135-a5fb-1fe9727d7b12",
   "metadata": {},
   "source": [
    "## Objective: Perform dynamic calculations based on multiple attributes."
   ]
  },
  {
   "cell_type": "code",
   "execution_count": null,
   "id": "249b49f4-f6bc-427d-a26d-8d78364ffb12",
   "metadata": {},
   "outputs": [],
   "source": [
    "# Attribute Launch Point script for dynamic field calculation\n",
    "if mbo.isModified(\"QUANTITY\") or mbo.isModified(\"UNITCOST\"):\n",
    "    quantity = mbo.getDouble(\"QUANTITY\")\n",
    "    unit_cost = mbo.getDouble(\"UNITCOST\")\n",
    "    if quantity and unit_cost:\n",
    "        total_cost = quantity * unit_cost\n",
    "        mbo.setValue(\"TOTALCOST\", total_cost)"
   ]
  }
 ],
 "metadata": {
  "kernelspec": {
   "display_name": "Python 3 (ipykernel)",
   "language": "python",
   "name": "python3"
  },
  "language_info": {
   "codemirror_mode": {
    "name": "ipython",
    "version": 3
   },
   "file_extension": ".py",
   "mimetype": "text/x-python",
   "name": "python",
   "nbconvert_exporter": "python",
   "pygments_lexer": "ipython3",
   "version": "3.11.7"
  }
 },
 "nbformat": 4,
 "nbformat_minor": 5
}
