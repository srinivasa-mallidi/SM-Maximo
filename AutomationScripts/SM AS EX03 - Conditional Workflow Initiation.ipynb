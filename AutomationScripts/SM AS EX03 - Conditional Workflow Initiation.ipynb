{
 "cells": [
  {
   "cell_type": "markdown",
   "id": "e7578843-87e6-4a96-8eef-5c5ddb55eea3",
   "metadata": {},
   "source": [
    "## Objective: Automatically initiate a workflow based on specific conditions when a work order is created."
   ]
  },
  {
   "cell_type": "code",
   "execution_count": null,
   "id": "29671752-6d06-481d-a2fb-376b809ba69c",
   "metadata": {},
   "outputs": [],
   "source": [
    "from psdi.workflow import WFInstance\n",
    "from psdi.workflow.WFManager import getInstance\n",
    "\n",
    "def initiate_workflow(mbo, process_name):\n",
    "    wfm = getInstance()\n",
    "    user_info = mbo.getUserInfo()\n",
    "    wfm.initiate(process_name, mbo, user_info)\n",
    "\n",
    "if mbo.isNew() and mbo.getString(\"WORKTYPE\") == \"EM\" and mbo.getInt(\"WOPRIORITY\") == 1:\n",
    "    initiate_workflow(mbo, \"EMERGENCY_WORKFLOW\")\n"
   ]
  },
  {
   "cell_type": "markdown",
   "id": "e995eaf2-f69a-4ab2-a12a-02aca1cff4d6",
   "metadata": {},
   "source": [
    "**Steps**:\r\n",
    "\r\n",
    "1.  Create a new script with an Object Launch Point.\r\n",
    "2.  Select the `WORKORDER` object.\r\n",
    "3.  Trigger the script on the `Add` event.\r\n",
    "4.  Write and save the above script.\r\n",
    "5.  Test by creating a new work order with `WORKTYPE` as \"EM\" and `WOPRIORITY` as 1. Verify that the \"EMERGENCY_WORKFLOW\" is initiated."
   ]
  }
 ],
 "metadata": {
  "kernelspec": {
   "display_name": "Python 3 (ipykernel)",
   "language": "python",
   "name": "python3"
  },
  "language_info": {
   "codemirror_mode": {
    "name": "ipython",
    "version": 3
   },
   "file_extension": ".py",
   "mimetype": "text/x-python",
   "name": "python",
   "nbconvert_exporter": "python",
   "pygments_lexer": "ipython3",
   "version": "3.11.7"
  }
 },
 "nbformat": 4,
 "nbformat_minor": 5
}
