{
 "cells": [
  {
   "cell_type": "markdown",
   "id": "54ec0dc7-3fb7-4eca-bf8e-6e7edb9ca050",
   "metadata": {},
   "source": [
    "## Objective: Call an external web service to fetch data and update a Maximo field."
   ]
  },
  {
   "cell_type": "code",
   "execution_count": null,
   "id": "3af23d93-ded9-4f86-baae-bbe20f350a48",
   "metadata": {},
   "outputs": [],
   "source": [
    "from java.net import URL\n",
    "from java.io import BufferedReader, InputStreamReader\n",
    "\n",
    "def call_external_service(mbo):\n",
    "    api_url = \"http://api.example.com/getData?param=\" + mbo.getString(\"PARAM\")\n",
    "    url = URL(api_url)\n",
    "    conn = url.openConnection()\n",
    "    conn.setRequestMethod(\"GET\")\n",
    "    \n",
    "    if conn.getResponseCode() == 200:\n",
    "        input_stream = conn.getInputStream()\n",
    "        reader = BufferedReader(InputStreamReader(input_stream))\n",
    "        response = reader.readLine()\n",
    "        reader.close()\n",
    "        \n",
    "        # Assuming the response is a single line of text\n",
    "        mbo.setValue(\"EXTERNAL_DATA_FIELD\", response)\n",
    "    else:\n",
    "        mbo.setValue(\"EXTERNAL_DATA_FIELD\", \"Error fetching data\")\n",
    "\n",
    "if mbo.isNew():\n",
    "    call_external_service(mbo)"
   ]
  },
  {
   "cell_type": "markdown",
   "id": "7e90c804-e159-41da-9a8f-6a1001f4f970",
   "metadata": {},
   "source": [
    "**Steps**:\n",
    "\n",
    "1.  Create a new script with an Object Launch Point.\n",
    "2.  Select the relevant object (e.g., `WORKORDER`).\n",
    "3.  Trigger the script on the `Add` event.\n",
    "4.  Write and save the above script.\n",
    "5.  Test by creating a new record and verify that the `EXTERNAL_DATA_FIELD` is updated based on the response from the external web service."
   ]
  },
  {
   "cell_type": "code",
   "execution_count": null,
   "id": "f35331f7-8b47-4f8f-917d-67c620e1f96f",
   "metadata": {},
   "outputs": [],
   "source": []
  }
 ],
 "metadata": {
  "kernelspec": {
   "display_name": "Python 3 (ipykernel)",
   "language": "python",
   "name": "python3"
  },
  "language_info": {
   "codemirror_mode": {
    "name": "ipython",
    "version": 3
   },
   "file_extension": ".py",
   "mimetype": "text/x-python",
   "name": "python",
   "nbconvert_exporter": "python",
   "pygments_lexer": "ipython3",
   "version": "3.11.7"
  }
 },
 "nbformat": 4,
 "nbformat_minor": 5
}
