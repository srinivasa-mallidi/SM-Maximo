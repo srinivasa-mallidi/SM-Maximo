{
 "cells": [
  {
   "cell_type": "markdown",
   "id": "483f199a-3c70-4b11-a2d7-45a4fe073b05",
   "metadata": {},
   "source": [
    "## Objective: Set the location based on the selected asset when creating or updating a work order."
   ]
  },
  {
   "cell_type": "code",
   "execution_count": null,
   "id": "4a368c17-8402-4872-b37a-2de714c1c9c2",
   "metadata": {},
   "outputs": [],
   "source": [
    "# Attribute Launch Point script to set location based on selected asset\n",
    "if mbo.isNew() or mbo.isModified(\"ASSETNUM\"):\n",
    "    asset = mbo.getMboSet(\"ASSETNUM\").getMbo(0)\n",
    "    if asset:\n",
    "        location = asset.getString(\"LOCATION\")\n",
    "        mbo.setValue(\"LOCATION\", location)\n"
   ]
  }
 ],
 "metadata": {
  "kernelspec": {
   "display_name": "Python 3 (ipykernel)",
   "language": "python",
   "name": "python3"
  },
  "language_info": {
   "codemirror_mode": {
    "name": "ipython",
    "version": 3
   },
   "file_extension": ".py",
   "mimetype": "text/x-python",
   "name": "python",
   "nbconvert_exporter": "python",
   "pygments_lexer": "ipython3",
   "version": "3.11.7"
  }
 },
 "nbformat": 4,
 "nbformat_minor": 5
}
