{
 "cells": [
  {
   "cell_type": "markdown",
   "id": "089502bd-5ffb-456d-882a-7b270f26e37f",
   "metadata": {},
   "source": [
    "## Objective: Calculate the due date based on the start date and priority when a work order is created or updated."
   ]
  },
  {
   "cell_type": "code",
   "execution_count": null,
   "id": "be89b458-6523-494c-a6f8-85d3888ca12c",
   "metadata": {},
   "outputs": [],
   "source": [
    "# Attribute Launch Point script to calculate due date based on start date and priority\n",
    "from java.util import Calendar\n",
    "\n",
    "if mbo.isNew() or mbo.isModified(\"STARTDATE\") or mbo.isModified(\"WOPRIORITY\"):\n",
    "    start_date = mbo.getDate(\"STARTDATE\")\n",
    "    priority = mbo.getInt(\"WOPRIORITY\")\n",
    "    \n",
    "    if start_date and priority:\n",
    "        cal = Calendar.getInstance()\n",
    "        cal.setTime(start_date)\n",
    "        \n",
    "        if priority == 1:\n",
    "            cal.add(Calendar.DAY_OF_MONTH, 1)\n",
    "        elif priority == 2:\n",
    "            cal.add(Calendar.DAY_OF_MONTH, 3)\n",
    "        elif priority == 3:\n",
    "            cal.add(Calendar.DAY_OF_MONTH, 7)\n",
    "        elif priority == 4:\n",
    "            cal.add(Calendar.DAY_OF_MONTH, 14)\n",
    "        elif priority == 5:\n",
    "            cal.add(Calendar.DAY_OF_MONTH, 30)\n",
    "        \n",
    "        due_date = cal.getTime()\n",
    "        mbo.setValue(\"DUEDATE\", due_date)\n"
   ]
  },
  {
   "cell_type": "code",
   "execution_count": null,
   "id": "84b9ad6a-7ed1-44be-b614-617c0a400178",
   "metadata": {},
   "outputs": [],
   "source": []
  }
 ],
 "metadata": {
  "kernelspec": {
   "display_name": "Python 3 (ipykernel)",
   "language": "python",
   "name": "python3"
  },
  "language_info": {
   "codemirror_mode": {
    "name": "ipython",
    "version": 3
   },
   "file_extension": ".py",
   "mimetype": "text/x-python",
   "name": "python",
   "nbconvert_exporter": "python",
   "pygments_lexer": "ipython3",
   "version": "3.11.7"
  }
 },
 "nbformat": 4,
 "nbformat_minor": 5
}
