{
 "cells": [
  {
   "cell_type": "markdown",
   "id": "c62f8448-aa5a-41a6-aade-b1bf384b4012",
   "metadata": {},
   "source": [
    "# Objective: Send an email notification when the status of a work order changes to ‘COMP’"
   ]
  },
  {
   "cell_type": "code",
   "execution_count": null,
   "id": "fdd00fdb-e648-446b-8d11-684e9893653f",
   "metadata": {},
   "outputs": [],
   "source": [
    "from psdi.server import MXServer\n",
    "from java.util import Properties\n",
    "from javax.mail import Session, Message, Transport\n",
    "from javax.mail.internet import InternetAddress, MimeMessage\n",
    "\n",
    "def send_email(to_address, subject, body):\n",
    "    props = Properties()\n",
    "    props.put(\"mail.smtp.host\", \"smtp.example.com\")\n",
    "    session = Session.getInstance(props, None)\n",
    "    msg = MimeMessage(session)\n",
    "    msg.setFrom(InternetAddress(\"no-reply@example.com\"))\n",
    "    msg.setRecipients(Message.RecipientType.TO, InternetAddress.parse(to_address, False))\n",
    "    msg.setSubject(subject)\n",
    "    msg.setText(body)\n",
    "    Transport.send(msg)\n",
    "\n",
    "if mbo.getString(\"STATUS\") == \"COMP\":\n",
    "    recipient = \"user@example.com\"\n",
    "    subject = \"Work Order Completed\"\n",
    "    body = \"The work order {} has been completed.\".format(mbo.getString(\"WONUM\"))\n",
    "    send_email(recipient, subject, body)"
   ]
  },
  {
   "cell_type": "markdown",
   "id": "765ecd10-a1fd-4f7d-aeaa-9bdcb93de492",
   "metadata": {},
   "source": [
    "**Steps**:\n",
    "\n",
    "1.  Create a new script with an Object Launch Point.\n",
    "2.  Select the `WORKORDER` object.\n",
    "3.  Trigger the script on the `Update` event.\n",
    "4.  Write and save the above script.\n",
    "5.  Test by changing the status of a work order to 'COMP' and verify the email is sent."
   ]
  },
  {
   "cell_type": "code",
   "execution_count": null,
   "id": "c0a9105d-13d8-4fcb-8292-4a36c1cdb0df",
   "metadata": {},
   "outputs": [],
   "source": []
  }
 ],
 "metadata": {
  "kernelspec": {
   "display_name": "Python 3 (ipykernel)",
   "language": "python",
   "name": "python3"
  },
  "language_info": {
   "codemirror_mode": {
    "name": "ipython",
    "version": 3
   },
   "file_extension": ".py",
   "mimetype": "text/x-python",
   "name": "python",
   "nbconvert_exporter": "python",
   "pygments_lexer": "ipython3",
   "version": "3.11.7"
  }
 },
 "nbformat": 4,
 "nbformat_minor": 5
}
