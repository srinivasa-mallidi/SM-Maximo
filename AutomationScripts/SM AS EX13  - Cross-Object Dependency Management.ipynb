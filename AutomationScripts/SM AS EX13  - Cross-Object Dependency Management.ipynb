{
 "cells": [
  {
   "cell_type": "markdown",
   "id": "c89de504-041c-4afe-aa03-d01f062c676e",
   "metadata": {},
   "source": [
    "## Objective: Update related objects based on changes in a specific field."
   ]
  },
  {
   "cell_type": "code",
   "execution_count": null,
   "id": "79570bac-5f55-417b-80c4-079fbe5a3962",
   "metadata": {},
   "outputs": [],
   "source": [
    "# Attribute Launch Point script to update related objects based on changes\n",
    "if mbo.isModified(\"STATUS\") and mbo.getString(\"STATUS\") == \"APPR\":\n",
    "    worklog_set = mbo.getMboSet(\"WORKLOG\")\n",
    "    worklog = worklog_set.add()\n",
    "    worklog.setValue(\"DESCRIPTION\", \"Work order approved.\")\n",
    "    worklog_set.save()\n"
   ]
  }
 ],
 "metadata": {
  "kernelspec": {
   "display_name": "Python 3 (ipykernel)",
   "language": "python",
   "name": "python3"
  },
  "language_info": {
   "codemirror_mode": {
    "name": "ipython",
    "version": 3
   },
   "file_extension": ".py",
   "mimetype": "text/x-python",
   "name": "python",
   "nbconvert_exporter": "python",
   "pygments_lexer": "ipython3",
   "version": "3.11.7"
  }
 },
 "nbformat": 4,
 "nbformat_minor": 5
}
