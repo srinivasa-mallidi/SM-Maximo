{
 "cells": [
  {
   "cell_type": "markdown",
   "id": "fac44e22-a990-4b97-84ec-a1adb0a48e39",
   "metadata": {},
   "source": [
    "## Objective: Set default values for a new work order based on the type of work."
   ]
  },
  {
   "cell_type": "code",
   "execution_count": null,
   "id": "40d38816-5e8c-47ae-99af-1ed21aad2466",
   "metadata": {},
   "outputs": [],
   "source": [
    "if mbo.isNew():\n",
    "    worktype = mbo.getString(\"WORKTYPE\")\n",
    "    if worktype == \"EM\":\n",
    "        mbo.setValue(\"PRIORITY\", 1)\n",
    "        mbo.setValue(\"SUPERVISOR\", \"SUP1\")\n",
    "    elif worktype == \"PM\":\n",
    "        mbo.setValue(\"PRIORITY\", 3)\n",
    "        mbo.setValue(\"SUPERVISOR\", \"SUP2\")"
   ]
  },
  {
   "cell_type": "markdown",
   "id": "165830ef-6e8b-4af7-a91f-d1aa3a2d152d",
   "metadata": {},
   "source": [
    "**Steps**:\n",
    "\n",
    "1.  Create a new script with an Object Launch Point.\n",
    "2.  Select the `WORKORDER` object.\n",
    "3.  Trigger the script on the `Add` event.\n",
    "4.  Write and save the above script.\n",
    "5.  Test by creating new work orders with different work types and verify default values are set."
   ]
  },
  {
   "cell_type": "code",
   "execution_count": null,
   "id": "f87c6f7c-767c-4dc0-9070-51e9ffa7f30f",
   "metadata": {},
   "outputs": [],
   "source": []
  }
 ],
 "metadata": {
  "kernelspec": {
   "display_name": "Python 3 (ipykernel)",
   "language": "python",
   "name": "python3"
  },
  "language_info": {
   "codemirror_mode": {
    "name": "ipython",
    "version": 3
   },
   "file_extension": ".py",
   "mimetype": "text/x-python",
   "name": "python",
   "nbconvert_exporter": "python",
   "pygments_lexer": "ipython3",
   "version": "3.11.7"
  }
 },
 "nbformat": 4,
 "nbformat_minor": 5
}
