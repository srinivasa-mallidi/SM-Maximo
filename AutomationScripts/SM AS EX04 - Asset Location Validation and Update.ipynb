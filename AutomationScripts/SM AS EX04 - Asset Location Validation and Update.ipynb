{
 "cells": [
  {
   "cell_type": "markdown",
   "id": "d4dd8666-faa4-47a3-8f2f-6cf2950378c9",
   "metadata": {},
   "source": [
    "## Objective: Validate the location of an asset and update a custom field based on the validation results."
   ]
  },
  {
   "cell_type": "code",
   "execution_count": null,
   "id": "22a6e2d1-7d17-41c5-b314-06c46b9223a9",
   "metadata": {},
   "outputs": [],
   "source": [
    "# This script validates the asset location and updates a custom field based on validation\n",
    "\n",
    "def validate_location(mbo):\n",
    "    location = mbo.getString(\"LOCATION\")\n",
    "    assetnum = mbo.getString(\"ASSETNUM\")\n",
    "    \n",
    "    if location and assetnum:\n",
    "        asset_set = mbo.getMboSet(\"ASSET\")\n",
    "        asset = asset_set.getMbo(0)\n",
    "        \n",
    "        if asset:\n",
    "            asset_location = asset.getString(\"LOCATION\")\n",
    "            if asset_location != location:\n",
    "                mbo.setValue(\"CUSTOM_VALIDATION_STATUS\", \"Location mismatch\")\n",
    "            else:\n",
    "                mbo.setValue(\"CUSTOM_VALIDATION_STATUS\", \"Location valid\")\n",
    "        else:\n",
    "            mbo.setValue(\"CUSTOM_VALIDATION_STATUS\", \"Asset not found\")\n",
    "\n",
    "if mbo.isNew():\n",
    "    validate_location(mbo)"
   ]
  },
  {
   "cell_type": "markdown",
   "id": "42aa2fd6-6c69-42d3-bc71-82e9675d7470",
   "metadata": {},
   "source": [
    "**Steps**:\n",
    "\n",
    "1.  Create a new script with an Object Launch Point.\n",
    "2.  Select the `WORKORDER` object.\n",
    "3.  Trigger the script on the `Add` event.\n",
    "4.  Write and save the above script.\n",
    "5.  Test by creating a new work order and verify that the `CUSTOM_VALIDATION_STATUS` field is updated based on the asset location validation."
   ]
  },
  {
   "cell_type": "code",
   "execution_count": null,
   "id": "40a5b69d-dffb-4128-8a2a-4083d54649f8",
   "metadata": {},
   "outputs": [],
   "source": []
  }
 ],
 "metadata": {
  "kernelspec": {
   "display_name": "Python 3 (ipykernel)",
   "language": "python",
   "name": "python3"
  },
  "language_info": {
   "codemirror_mode": {
    "name": "ipython",
    "version": 3
   },
   "file_extension": ".py",
   "mimetype": "text/x-python",
   "name": "python",
   "nbconvert_exporter": "python",
   "pygments_lexer": "ipython3",
   "version": "3.11.7"
  }
 },
 "nbformat": 4,
 "nbformat_minor": 5
}
